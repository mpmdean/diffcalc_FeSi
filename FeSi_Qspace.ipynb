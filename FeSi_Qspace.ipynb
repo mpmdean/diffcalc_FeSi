{
 "cells": [
  {
   "cell_type": "code",
   "execution_count": 1,
   "id": "5497115a-e48b-4fc7-a2d1-06f3d21ad489",
   "metadata": {
    "tags": []
   },
   "outputs": [],
   "source": [
    "from diffcalc.hkl.calc import HklCalculation\n",
    "from diffcalc.hkl.constraints import Constraints\n",
    "from diffcalc.hkl.geometry import Position\n",
    "from diffcalc.ub.calc import UBCalculation"
   ]
  },
  {
   "cell_type": "markdown",
   "id": "f8603824-66ab-4507-a712-19dae7f361e0",
   "metadata": {},
   "source": [
    "# Setup crystal"
   ]
  },
  {
   "cell_type": "code",
   "execution_count": 2,
   "id": "e422679f-1de6-4f13-a34d-38236321d90c",
   "metadata": {
    "tags": []
   },
   "outputs": [],
   "source": [
    "ubcalc = UBCalculation()\n",
    "ubcalc.set_lattice(\"FeSi\", 4.4827)  # passing one parameter assumes cubic"
   ]
  },
  {
   "cell_type": "markdown",
   "id": "28d2555f-f039-4c9f-bdef-2aa2512ef8b0",
   "metadata": {},
   "source": [
    "# Specify reflections that define UB matrix"
   ]
  },
  {
   "cell_type": "code",
   "execution_count": 3,
   "id": "041a1ab3-3798-4f9a-830e-6fd4e0da6c39",
   "metadata": {
    "tags": []
   },
   "outputs": [],
   "source": [
    "energy = 0.7087 # keV\n",
    "wavelength = 12.39842/energy\n",
    "ubcalc.add_reflection(\n",
    "        (0, 0, 1),\n",
    "        Position(0, 100., 0, 50., -90, 0), # mu, delta, nu, eta, chi, phi \n",
    "        energy, \n",
    "        \"refl1\",\n",
    "    )\n",
    "\n",
    "ubcalc.add_reflection(\n",
    "        (1, 0, 0),\n",
    "        Position(0, 100., 0, 50.+90, -90, 0),\n",
    "        energy,\n",
    "        \"refl2\",\n",
    "    )\n",
    "\n",
    "ubcalc.calc_ub()\n",
    "\n",
    "cons = Constraints({\"qaz\": 0, \"mu\": 0, \"phi\": 0})\n",
    "hklcalc = HklCalculation(ubcalc, cons)"
   ]
  },
  {
   "cell_type": "markdown",
   "id": "70e21fea-e064-4bd6-b783-8189027c47e0",
   "metadata": {},
   "source": [
    "# Figure 3"
   ]
  },
  {
   "cell_type": "code",
   "execution_count": 4,
   "id": "5995b9da-f3b4-4e77-8f52-7238f17b6e71",
   "metadata": {
    "tags": []
   },
   "outputs": [
    {
     "name": "stdout",
     "output_type": "stream",
     "text": [
      "TTH=150 TH=68 Q=(-0.06, -0.00, 0.49)\n"
     ]
    }
   ],
   "source": [
    "tth = 150.\n",
    "th = 68.\n",
    "p = Position(0, tth, 0, th, -90, 0)\n",
    "h, k, l = hklcalc.get_hkl(p, wavelength)\n",
    "print(f\"TTH={tth:.0f} TH={th:.0f} Q=({h:.2f}, {k:.2f}, {l:.2f})\")"
   ]
  },
  {
   "cell_type": "markdown",
   "id": "d0e3be81-57dd-47eb-96a7-7c728b5954bc",
   "metadata": {},
   "source": [
    "# Figure 4"
   ]
  },
  {
   "cell_type": "code",
   "execution_count": 5,
   "id": "277a6a6e-e562-48a0-8f19-b6a36a25b850",
   "metadata": {
    "tags": []
   },
   "outputs": [
    {
     "name": "stdout",
     "output_type": "stream",
     "text": [
      "TTH=150 TH=10 Q=(-0.45, -0.00, 0.21)\n",
      "TTH=150 TH=30 Q=(-0.35, -0.00, 0.35)\n",
      "TTH=150 TH=45 Q=(-0.25, -0.00, 0.43)\n",
      "TTH=150 TH=68 Q=(-0.06, -0.00, 0.49)\n",
      "TTH=150 TH=120 Q=(0.35, -0.00, 0.35)\n",
      "TTH=70 TH=10 Q=(-0.12, -0.00, 0.27)\n",
      "TTH=70 TH=30 Q=(-0.03, -0.00, 0.29)\n",
      "TTH=70 TH=60 Q=(0.12, -0.00, 0.27)\n"
     ]
    }
   ],
   "source": [
    "tths = [150.]*5 + [70.]*3\n",
    "ths = [10., 30., 45., 68., 120., 10., 30., 60]\n",
    "\n",
    "for tth, th in zip(tths, ths):\n",
    "    p = Position(0, tth, 0, th, -90, 0)\n",
    "    h, k, l = hklcalc.get_hkl(p, wavelength)\n",
    "    print(f\"TTH={tth:.0f} TH={th:.0f} Q=({h:.2f}, {k:.2f}, {l:.2f})\")"
   ]
  },
  {
   "cell_type": "code",
   "execution_count": null,
   "id": "4488f789-c36c-4a5c-81af-fff7402379c5",
   "metadata": {},
   "outputs": [],
   "source": []
  }
 ],
 "metadata": {
  "kernelspec": {
   "display_name": "Python 3 (ipykernel)",
   "language": "python",
   "name": "python3"
  },
  "language_info": {
   "codemirror_mode": {
    "name": "ipython",
    "version": 3
   },
   "file_extension": ".py",
   "mimetype": "text/x-python",
   "name": "python",
   "nbconvert_exporter": "python",
   "pygments_lexer": "ipython3",
   "version": "3.7.12"
  }
 },
 "nbformat": 4,
 "nbformat_minor": 5
}
